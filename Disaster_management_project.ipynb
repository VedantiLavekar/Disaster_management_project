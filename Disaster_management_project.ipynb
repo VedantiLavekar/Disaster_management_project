{
 "cells": [
  {
   "cell_type": "code",
   "execution_count": 1,
   "id": "67719546-2f85-4d49-9d57-57b3169135b8",
   "metadata": {},
   "outputs": [],
   "source": [
    "#Disaster Prediction & Early Warning System (ML + GIS) — Without IoT"
   ]
  },
  {
   "cell_type": "code",
   "execution_count": 3,
   "id": "8659ee2b-96f5-47b2-9189-0bad1e0b3eff",
   "metadata": {},
   "outputs": [
    {
     "name": "stdout",
     "output_type": "stream",
     "text": [
      "Requirement already satisfied: numpy in c:\\users\\vedan\\anaconda3\\lib\\site-packages (1.26.4)\n",
      "Requirement already satisfied: pandas in c:\\users\\vedan\\anaconda3\\lib\\site-packages (2.2.2)\n",
      "Requirement already satisfied: scikit-learn in c:\\users\\vedan\\anaconda3\\lib\\site-packages (1.7.1)\n",
      "Requirement already satisfied: matplotlib in c:\\users\\vedan\\anaconda3\\lib\\site-packages (3.9.2)\n",
      "Requirement already satisfied: folium in c:\\users\\vedan\\anaconda3\\lib\\site-packages (0.20.0)\n",
      "Requirement already satisfied: joblib in c:\\users\\vedan\\anaconda3\\lib\\site-packages (1.4.2)\n",
      "Requirement already satisfied: shapely in c:\\users\\vedan\\anaconda3\\lib\\site-packages (2.1.1)\n",
      "Requirement already satisfied: geopandas in c:\\users\\vedan\\anaconda3\\lib\\site-packages (1.1.1)\n",
      "Requirement already satisfied: pyproj in c:\\users\\vedan\\anaconda3\\lib\\site-packages (3.7.2)\n",
      "Requirement already satisfied: python-dateutil>=2.8.2 in c:\\users\\vedan\\anaconda3\\lib\\site-packages (from pandas) (2.9.0.post0)\n",
      "Requirement already satisfied: pytz>=2020.1 in c:\\users\\vedan\\anaconda3\\lib\\site-packages (from pandas) (2024.1)\n",
      "Requirement already satisfied: tzdata>=2022.7 in c:\\users\\vedan\\anaconda3\\lib\\site-packages (from pandas) (2023.3)\n",
      "Requirement already satisfied: scipy>=1.8.0 in c:\\users\\vedan\\anaconda3\\lib\\site-packages (from scikit-learn) (1.13.1)\n",
      "Requirement already satisfied: threadpoolctl>=3.1.0 in c:\\users\\vedan\\anaconda3\\lib\\site-packages (from scikit-learn) (3.5.0)\n",
      "Requirement already satisfied: contourpy>=1.0.1 in c:\\users\\vedan\\anaconda3\\lib\\site-packages (from matplotlib) (1.2.0)\n",
      "Requirement already satisfied: cycler>=0.10 in c:\\users\\vedan\\anaconda3\\lib\\site-packages (from matplotlib) (0.11.0)\n",
      "Requirement already satisfied: fonttools>=4.22.0 in c:\\users\\vedan\\anaconda3\\lib\\site-packages (from matplotlib) (4.51.0)\n",
      "Requirement already satisfied: kiwisolver>=1.3.1 in c:\\users\\vedan\\anaconda3\\lib\\site-packages (from matplotlib) (1.4.4)\n",
      "Requirement already satisfied: packaging>=20.0 in c:\\users\\vedan\\anaconda3\\lib\\site-packages (from matplotlib) (24.1)\n",
      "Requirement already satisfied: pillow>=8 in c:\\users\\vedan\\anaconda3\\lib\\site-packages (from matplotlib) (10.4.0)\n",
      "Requirement already satisfied: pyparsing>=2.3.1 in c:\\users\\vedan\\anaconda3\\lib\\site-packages (from matplotlib) (3.1.2)\n",
      "Requirement already satisfied: branca>=0.6.0 in c:\\users\\vedan\\anaconda3\\lib\\site-packages (from folium) (0.8.1)\n",
      "Requirement already satisfied: jinja2>=2.9 in c:\\users\\vedan\\anaconda3\\lib\\site-packages (from folium) (3.1.4)\n",
      "Requirement already satisfied: requests in c:\\users\\vedan\\anaconda3\\lib\\site-packages (from folium) (2.32.3)\n",
      "Requirement already satisfied: xyzservices in c:\\users\\vedan\\anaconda3\\lib\\site-packages (from folium) (2022.9.0)\n",
      "Requirement already satisfied: pyogrio>=0.7.2 in c:\\users\\vedan\\anaconda3\\lib\\site-packages (from geopandas) (0.11.1)\n",
      "Requirement already satisfied: certifi in c:\\users\\vedan\\anaconda3\\lib\\site-packages (from pyproj) (2025.8.3)\n",
      "Requirement already satisfied: MarkupSafe>=2.0 in c:\\users\\vedan\\anaconda3\\lib\\site-packages (from jinja2>=2.9->folium) (2.1.3)\n",
      "Requirement already satisfied: six>=1.5 in c:\\users\\vedan\\anaconda3\\lib\\site-packages (from python-dateutil>=2.8.2->pandas) (1.16.0)\n",
      "Requirement already satisfied: charset-normalizer<4,>=2 in c:\\users\\vedan\\anaconda3\\lib\\site-packages (from requests->folium) (3.3.2)\n",
      "Requirement already satisfied: idna<4,>=2.5 in c:\\users\\vedan\\anaconda3\\lib\\site-packages (from requests->folium) (3.7)\n",
      "Requirement already satisfied: urllib3<3,>=1.21.1 in c:\\users\\vedan\\anaconda3\\lib\\site-packages (from requests->folium) (2.5.0)\n"
     ]
    }
   ],
   "source": [
    "\n",
    "!pip install numpy pandas scikit-learn matplotlib folium joblib shapely geopandas pyproj\n"
   ]
  },
  {
   "cell_type": "code",
   "execution_count": 5,
   "id": "e369b0b7-f1d2-4416-b4f9-1f46eb5e3a16",
   "metadata": {},
   "outputs": [],
   "source": [
    "import numpy as np\n",
    "import pandas as pd\n",
    "from pathlib import Path\n",
    "from datetime import datetime, timedelta\n",
    "from sklearn.model_selection import train_test_split, TimeSeriesSplit, StratifiedKFold, RandomizedSearchCV\n",
    "from sklearn.preprocessing import StandardScaler\n",
    "from sklearn.compose import ColumnTransformer\n",
    "from sklearn.pipeline import Pipeline\n",
    "from sklearn.metrics import f1_score, roc_auc_score, accuracy_score, classification_report, mean_absolute_error, r2_score\n",
    "from sklearn.ensemble import GradientBoostingClassifier, GradientBoostingRegressor, RandomForestClassifier\n",
    "from sklearn.inspection import permutation_importance\n",
    "from sklearn.impute import SimpleImputer\n",
    "import joblib\n",
    "import folium\n",
    "import matplotlib.pyplot as plt\n",
    "\n",
    "pd.set_option('display.max_columns', 200)\n",
    "np.random.seed(42)\n"
   ]
  },
  {
   "cell_type": "code",
   "execution_count": 11,
   "id": "64734e8d-8912-43dc-9c7a-db8b11cb1cf4",
   "metadata": {},
   "outputs": [],
   "source": [
    "df=pd.read_csv(r\"C:\\Users\\vedan\\Downloads\\synthetic_disaster_dataset.csv\")"
   ]
  },
  {
   "cell_type": "code",
   "execution_count": 13,
   "id": "9a1e5786-90ec-4522-a368-fbeba89daaa8",
   "metadata": {},
   "outputs": [
    {
     "name": "stdout",
     "output_type": "stream",
     "text": [
      "   temperature    rainfall   humidity  wind_speed  soil_moisture region  \\\n",
      "0    32.483571  155.974217  63.248217    5.460962      21.365064   West   \n",
      "1    29.308678  136.985347  68.554813   10.698075      29.687965  North   \n",
      "2    33.238443  102.385215  62.075801   12.931972      30.180169   West   \n",
      "3    37.615149   74.122529  66.920385   24.438438      34.726303  South   \n",
      "4    28.829233  127.928933  51.063853   17.782766      16.331416   West   \n",
      "\n",
      "   disaster_occurred  \n",
      "0                  0  \n",
      "1                  0  \n",
      "2                  0  \n",
      "3                  0  \n",
      "4                  0  \n"
     ]
    }
   ],
   "source": [
    "print(df.head())"
   ]
  },
  {
   "cell_type": "code",
   "execution_count": 15,
   "id": "cefc1093-c439-409a-9989-0168c9b612b1",
   "metadata": {},
   "outputs": [
    {
     "name": "stdout",
     "output_type": "stream",
     "text": [
      "<class 'pandas.core.frame.DataFrame'>\n",
      "RangeIndex: 1000 entries, 0 to 999\n",
      "Data columns (total 7 columns):\n",
      " #   Column             Non-Null Count  Dtype  \n",
      "---  ------             --------------  -----  \n",
      " 0   temperature        1000 non-null   float64\n",
      " 1   rainfall           1000 non-null   float64\n",
      " 2   humidity           1000 non-null   float64\n",
      " 3   wind_speed         1000 non-null   float64\n",
      " 4   soil_moisture      1000 non-null   float64\n",
      " 5   region             1000 non-null   object \n",
      " 6   disaster_occurred  1000 non-null   int64  \n",
      "dtypes: float64(5), int64(1), object(1)\n",
      "memory usage: 54.8+ KB\n",
      "None\n"
     ]
    }
   ],
   "source": [
    "print(df.info())"
   ]
  },
  {
   "cell_type": "code",
   "execution_count": 17,
   "id": "1f4f30a5-ae74-4697-8a59-c2bfaa0d0513",
   "metadata": {},
   "outputs": [
    {
     "name": "stdout",
     "output_type": "stream",
     "text": [
      "       temperature     rainfall     humidity   wind_speed  soil_moisture  \\\n",
      "count  1000.000000  1000.000000  1000.000000  1000.000000    1000.000000   \n",
      "mean     30.096660   102.833449    70.058342    14.906404      29.507264   \n",
      "std       4.896080    39.898175     9.834543     5.135663       9.923802   \n",
      "min      13.793663   -17.615545    39.804878     0.352757      -1.767038   \n",
      "25%      26.762048    75.750332    63.520004    11.312898      23.173950   \n",
      "50%      30.126503   102.523085    69.997492    15.000923      29.817580   \n",
      "75%      33.239719   129.155287    76.609153    18.334727      36.391231   \n",
      "max      49.263657   227.724303   109.262377    31.215465      61.129102   \n",
      "\n",
      "       disaster_occurred  \n",
      "count        1000.000000  \n",
      "mean            0.025000  \n",
      "std             0.156203  \n",
      "min             0.000000  \n",
      "25%             0.000000  \n",
      "50%             0.000000  \n",
      "75%             0.000000  \n",
      "max             1.000000  \n"
     ]
    }
   ],
   "source": [
    "print(df.describe())"
   ]
  },
  {
   "cell_type": "code",
   "execution_count": 19,
   "id": "aa9bc5ac-6828-4a75-bdec-ac64bd976b2b",
   "metadata": {},
   "outputs": [
    {
     "name": "stdout",
     "output_type": "stream",
     "text": [
      "temperature          0\n",
      "rainfall             0\n",
      "humidity             0\n",
      "wind_speed           0\n",
      "soil_moisture        0\n",
      "region               0\n",
      "disaster_occurred    0\n",
      "dtype: int64\n"
     ]
    }
   ],
   "source": [
    "print(df.isnull().sum())"
   ]
  },
  {
   "cell_type": "code",
   "execution_count": null,
   "id": "9da6792b-53d6-42ec-89f7-7000fe573460",
   "metadata": {},
   "outputs": [],
   "source": []
  }
 ],
 "metadata": {
  "kernelspec": {
   "display_name": "Python [conda env:base] *",
   "language": "python",
   "name": "conda-base-py"
  },
  "language_info": {
   "codemirror_mode": {
    "name": "ipython",
    "version": 3
   },
   "file_extension": ".py",
   "mimetype": "text/x-python",
   "name": "python",
   "nbconvert_exporter": "python",
   "pygments_lexer": "ipython3",
   "version": "3.12.7"
  }
 },
 "nbformat": 4,
 "nbformat_minor": 5
}
